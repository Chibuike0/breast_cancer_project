{
 "cells": [
  {
   "cell_type": "code",
   "execution_count": 5,
   "metadata": {},
   "outputs": [],
   "source": [
    "#import important libraries and load the saved files\n",
    "import pandas as pd\n",
    "import joblib\n",
    "import pickle\n",
    "\n",
    "# Load the saved models\n",
    "model = joblib.load('clf_model.pkl')\n",
    "sc = joblib.load('scaler.pkl')\n",
    "\n",
    "# Load the saved feature selector\n",
    "with open('feature_selector.pkl', 'rb') as f:\n",
    "    fs = pickle.load(f)\n",
    "\n",
    "# Function to predict breast cancer\n",
    "def predict_cancer(input_data):\n",
    "    # Convert input data to DataFrame\n",
    "    input_df = pd.DataFrame([input_data])\n",
    "    \n",
    "    # Scale the input data\n",
    "    input_scaled = sc.transform(input_df)\n",
    "    \n",
    "    # Transform the scaled data using the loaded feature selector\n",
    "    input_fs = fs.transform(input_scaled)\n",
    "    \n",
    "    # Make predictions\n",
    "    prediction = model.predict(input_fs)\n",
    "    prediction_proba = prediction[0]\n",
    "    \n",
    "    return prediction_proba\n",
    "\n"
   ]
  },
  {
   "cell_type": "code",
   "execution_count": 7,
   "metadata": {},
   "outputs": [],
   "source": [
    "# Example input data\n",
    "input_data = {\n",
    "    'radius_mean': 7.00,\n",
    "    'texture_mean': 13.38,\n",
    "    'perimeter_mean': 10.8,\n",
    "    'area_mean': 1201.0,\n",
    "    'smoothness_mean': 0.1076,\n",
    "    'compactness_mean': 0.3456,\n",
    "    'concavity_mean': 0.6001,\n",
    "    'concave points_mean': 0.1591,\n",
    "    'symmetry_mean': 0.3620,\n",
    "    'fractal_dimension_mean': 0.27871,\n",
    "    'radius_se': 1.099,\n",
    "    'texture_se': 0.9124,\n",
    "    'perimeter_se': 9.596,\n",
    "    'area_se': 178.4,\n",
    "    'smoothness_se': 0.008377,\n",
    "    'compactness_se': 0.06953,\n",
    "    'concavity_se': 0.07634,\n",
    "    'concave points_se': 0.01789,\n",
    "    'symmetry_se': 0.03333,\n",
    "    'fractal_dimension_se': 0.006693,\n",
    "    'radius_worst': 35.38,\n",
    "    'texture_worst': 32.33,\n",
    "    'perimeter_worst': 176.6,\n",
    "    'area_worst': 2017.0,\n",
    "    'smoothness_worst': 0.1872,\n",
    "    'compactness_worst': 0.6957,\n",
    "    'concavity_worst': 0.7339,\n",
    "    'concave points_worst': 0.2358,\n",
    "    'symmetry_worst': 0.4761,\n",
    "    'fractal_dimension_worst': 0.1490\n",
    "}\n",
    "\n"
   ]
  },
  {
   "cell_type": "code",
   "execution_count": 8,
   "metadata": {},
   "outputs": [
    {
     "name": "stdout",
     "output_type": "stream",
     "text": [
      "Likely to be Malignant\n"
     ]
    }
   ],
   "source": [
    "# Predict and print the result\n",
    "prediction_proba = predict_cancer(input_data)\n",
    "if prediction_proba > 0.5:\n",
    "    print('Likely to be Malignant')\n",
    "else:\n",
    "    print('Likely Benign')"
   ]
  }
 ],
 "metadata": {
  "kernelspec": {
   "display_name": "venv",
   "language": "python",
   "name": "python3"
  },
  "language_info": {
   "codemirror_mode": {
    "name": "ipython",
    "version": 3
   },
   "file_extension": ".py",
   "mimetype": "text/x-python",
   "name": "python",
   "nbconvert_exporter": "python",
   "pygments_lexer": "ipython3",
   "version": "3.8.2"
  }
 },
 "nbformat": 4,
 "nbformat_minor": 2
}
